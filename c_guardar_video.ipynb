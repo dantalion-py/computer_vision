{
 "cells": [
  {
   "cell_type": "code",
   "execution_count": 16,
   "metadata": {},
   "outputs": [],
   "source": [
    "import cv2"
   ]
  },
  {
   "cell_type": "code",
   "execution_count": 17,
   "metadata": {},
   "outputs": [
    {
     "name": "stdout",
     "output_type": "stream",
     "text": [
      "640 480\n"
     ]
    }
   ],
   "source": [
    "record_video = cv2.VideoCapture(0)\n",
    "width = int(record_video.get(3))\n",
    "height = int(record_video.get(4))\n",
    "print(width, height)\n"
   ]
  },
  {
   "cell_type": "markdown",
   "metadata": {},
   "source": [
    "**GUARDAR VIDEO**\\\n",
    "video = cv2.VideoWriter('ruta_video',cv2.VideoWriter_fourcc('M','J','P','G'),fotogramas,(height,width))"
   ]
  },
  {
   "cell_type": "code",
   "execution_count": 18,
   "metadata": {},
   "outputs": [],
   "source": [
    "video_guardado = cv2.VideoWriter('video/video_test_3.avi',cv2.VideoWriter_fourcc('M','J','P','G'),10,(width,height))"
   ]
  },
  {
   "cell_type": "code",
   "execution_count": 19,
   "metadata": {},
   "outputs": [],
   "source": [
    "while True:\n",
    "    ret, frame = record_video.read()\n",
    "    frame = cv2.cvtColor(frame,cv2.COLOR_BGR2HSV)\n",
    "    video_guardado.write(frame)\n",
    "\n",
    "    cv2.imshow('VIDEO CAPTURE',frame)\n",
    "    t = cv2.waitKey(1)\n",
    "    if t == 27:\n",
    "        break\n",
    "\n",
    "\n",
    "record_video.release()\n",
    "cv2.destroyAllWindows()"
   ]
  }
 ],
 "metadata": {
  "kernelspec": {
   "display_name": "Python 3",
   "language": "python",
   "name": "python3"
  },
  "language_info": {
   "codemirror_mode": {
    "name": "ipython",
    "version": 3
   },
   "file_extension": ".py",
   "mimetype": "text/x-python",
   "name": "python",
   "nbconvert_exporter": "python",
   "pygments_lexer": "ipython3",
   "version": "3.12.1"
  }
 },
 "nbformat": 4,
 "nbformat_minor": 2
}
