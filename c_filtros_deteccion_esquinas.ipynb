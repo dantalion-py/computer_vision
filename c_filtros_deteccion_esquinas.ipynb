{
 "cells": [
  {
   "cell_type": "code",
   "execution_count": 1,
   "metadata": {},
   "outputs": [],
   "source": [
    "import cv2\n",
    "import numpy as np"
   ]
  },
  {
   "cell_type": "markdown",
   "metadata": {},
   "source": [
    "**MODOS DE EJECUCION**\\\n",
    "CV - 0 = 48  #CAPTURA DE VIDEO\\\n",
    "FD - 1 = 49  #FILTRO DE DESENFOQUE\\\n",
    "FE - 2 = 50  #FILTRO DETECTOR DE ESQUINAS\\\n",
    "FB - 3 = 51  #FILTRO DE BORDES"
   ]
  },
  {
   "cell_type": "code",
   "execution_count": 2,
   "metadata": {},
   "outputs": [
    {
     "name": "stdout",
     "output_type": "stream",
     "text": [
      "tecla incorrecta\n",
      "tecla incorrecta\n",
      "tecla incorrecta\n",
      "tecla incorrecta\n",
      "tecla incorrecta\n",
      "tecla incorrecta\n",
      "tecla incorrecta\n",
      "tecla incorrecta\n",
      "tecla incorrecta\n",
      "tecla incorrecta\n",
      "tecla incorrecta\n",
      "tecla incorrecta\n",
      "tecla incorrecta\n",
      "tecla incorrecta\n",
      "tecla incorrecta\n",
      "tecla incorrecta\n",
      "tecla incorrecta\n",
      "tecla incorrecta\n",
      "tecla incorrecta\n",
      "tecla incorrecta\n",
      "tecla incorrecta\n",
      "tecla incorrecta\n",
      "tecla incorrecta\n",
      "tecla incorrecta\n",
      "tecla incorrecta\n",
      "tecla incorrecta\n"
     ]
    },
    {
     "ename": "KeyboardInterrupt",
     "evalue": "",
     "output_type": "error",
     "traceback": [
      "\u001b[0;31m---------------------------------------------------------------------------\u001b[0m",
      "\u001b[0;31mKeyboardInterrupt\u001b[0m                         Traceback (most recent call last)",
      "Cell \u001b[0;32mIn[2], line 9\u001b[0m\n\u001b[1;32m      7\u001b[0m video_capture \u001b[38;5;241m=\u001b[39m cv2\u001b[38;5;241m.\u001b[39mVideoCapture(\u001b[38;5;241m0\u001b[39m)\n\u001b[1;32m      8\u001b[0m \u001b[38;5;28;01mwhile\u001b[39;00m \u001b[38;5;28;01mTrue\u001b[39;00m:\n\u001b[0;32m----> 9\u001b[0m     ret, frame \u001b[38;5;241m=\u001b[39m \u001b[43mvideo_capture\u001b[49m\u001b[38;5;241;43m.\u001b[39;49m\u001b[43mread\u001b[49m\u001b[43m(\u001b[49m\u001b[43m)\u001b[49m\n\u001b[1;32m     10\u001b[0m     \u001b[38;5;66;03m#sin filtro\u001b[39;00m\n\u001b[1;32m     11\u001b[0m     \u001b[38;5;28;01mif\u001b[39;00m mod \u001b[38;5;241m==\u001b[39m \u001b[38;5;241m48\u001b[39m:\n",
      "\u001b[0;31mKeyboardInterrupt\u001b[0m: "
     ]
    }
   ],
   "source": [
    "esquinas_param = dict(maxCorners = 500,  #maximo numero de esquinas a detectat\n",
    "                      qualityLevel = 0.2,#umbral minimo para deteccion de esquinas\n",
    "                      minDistance = 15,  #distancia entre pixeles\n",
    "                      blockSize = 9)     #area de pixeles\n",
    "\n",
    "mod = 48\n",
    "video_capture = cv2.VideoCapture(0)\n",
    "while True:\n",
    "    ret, frame = video_capture.read()\n",
    "    #sin filtro\n",
    "    if mod == 48:\n",
    "        resultado = frame\n",
    "    #filtro desenfoque\n",
    "    elif mod == 49:\n",
    "        #modificar frames\n",
    "        resultado = cv2.blur(frame, (13,13))\n",
    "    # esquinas  \n",
    "    elif mod == 51:\n",
    "        resultado = cv2.Canny(frame,135,150)\n",
    "    #bordes\n",
    "    elif mod == 50:\n",
    "        #obtener los frames\n",
    "        resultado = frame\n",
    "        gray = cv2.cvtColor(frame,cv2.COLOR_BGR2GRAY)\n",
    "        esquinas = cv2.goodFeaturesToTrack(gray, **esquinas_param)\n",
    "        if esquinas is not None:\n",
    "            for x,y in np.float32(esquinas).reshape(-1,2):\n",
    "                x,y = int(x),int(y)\n",
    "                cv2.circle(resultado,(x,y),10,(0,0,255),1)\n",
    "\n",
    "\n",
    "    elif mod != 48 or mod != 49 or mod != 50 or mod != 51 or mod != -1:\n",
    "        resultado = frame\n",
    "        print(\"tecla incorrecta\")\n",
    "\n",
    "    cv2.imshow('VIDEO CAPTURE',resultado)\n",
    "    t = cv2.waitKey(1)\n",
    "    if t == 27:\n",
    "        break\n",
    "    elif t!=-1:\n",
    "        mod=t\n",
    "\n",
    "video_capture.release()\n",
    "cv2.destroyAllWindows()\n"
   ]
  },
  {
   "cell_type": "code",
   "execution_count": null,
   "metadata": {},
   "outputs": [],
   "source": []
  },
  {
   "cell_type": "code",
   "execution_count": null,
   "metadata": {},
   "outputs": [],
   "source": []
  }
 ],
 "metadata": {
  "kernelspec": {
   "display_name": "Python 3",
   "language": "python",
   "name": "python3"
  },
  "language_info": {
   "codemirror_mode": {
    "name": "ipython",
    "version": 3
   },
   "file_extension": ".py",
   "mimetype": "text/x-python",
   "name": "python",
   "nbconvert_exporter": "python",
   "pygments_lexer": "ipython3",
   "version": "3.12.3"
  }
 },
 "nbformat": 4,
 "nbformat_minor": 2
}
