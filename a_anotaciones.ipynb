{
 "cells": [
  {
   "cell_type": "markdown",
   "metadata": {},
   "source": [
    "ANOTACIONES ES IMAGENES"
   ]
  },
  {
   "cell_type": "code",
   "execution_count": 15,
   "metadata": {},
   "outputs": [],
   "source": [
    "import cv2\n",
    "import matplotlib.pyplot as plt"
   ]
  },
  {
   "cell_type": "code",
   "execution_count": 16,
   "metadata": {},
   "outputs": [],
   "source": [
    "img_kobayashi = cv2.imread('img/kobayashi.jpg',1)\n",
    "# img_kobayashi = cv2.cvtColor(img,cv2.COLOR_BGR2RGB)\n",
    "\n",
    "# plt.imshow(img_kobayashi)"
   ]
  },
  {
   "cell_type": "markdown",
   "metadata": {},
   "source": [
    "RECORTANDO LA IMAGEN\\\n",
    "ASEGURARSE DE QUE LAS LINEAS ESTEN EN LAS COORDENADAS SEGUN EL NIVEL DE REDIMENCIONAMIENTO SIN DECIMALES"
   ]
  },
  {
   "cell_type": "code",
   "execution_count": 17,
   "metadata": {},
   "outputs": [],
   "source": [
    "img_ajustada = cv2.resize(img_kobayashi,None,fx=.3,fy=.3)\n"
   ]
  },
  {
   "cell_type": "markdown",
   "metadata": {},
   "source": [
    "HACER FIGURAS EN LA IMAGEN"
   ]
  },
  {
   "cell_type": "code",
   "execution_count": 18,
   "metadata": {},
   "outputs": [],
   "source": [
    "##DIBUJAR UNA LINEA \n",
    "#PRIMER ARGUMENTO, LA IMAGEN\n",
    "#SEGUNDO LAS COORDENADAS ENTERAS DEL INICIO AL FIN DE LA LINEA X,Y\n",
    "#TERCERO EL COLOR\n",
    "#CUARTO EL GROSOR\n",
    "#QUINTO EL TIPO DE LINEA\n",
    "linea = cv2.line(img_ajustada,(int(1770*.3),int(1110*.3)),(int(1800*.3),int(1350*.3)),(200,2,10),thickness=2,lineType=cv2.LINE_AA)\n"
   ]
  },
  {
   "cell_type": "code",
   "execution_count": 19,
   "metadata": {},
   "outputs": [],
   "source": [
    "##DIBUJAR UNA  CIRCULO\n",
    "#PRIMER ARGUMENTO, LA IMAGEN\n",
    "#SEGUNDO LAS COORDENADAS ENTERAS DEL CENTRO X,Y\n",
    "#TERCERO RADIO\n",
    "#CUARTO EL COLOR\n",
    "#QUINTO GROSOR\n",
    "#SEXTO EL TIPO DE LINEA\n",
    "circulo = cv2.circle(img_ajustada,(int(1700*.3),int(750*.3)),105,(0,255,0),thickness=2,lineType=cv2.LINE_AA)"
   ]
  },
  {
   "cell_type": "code",
   "execution_count": 20,
   "metadata": {},
   "outputs": [],
   "source": [
    "##DIBUJAR UNA  RECTANGULO\n",
    "#PRIMER ARGUMENTO, LA IMAGEN\n",
    "#SEGUNDO LAS COORDENADAS ENTERAS DE LOS PIXELES SOW Y COLUMNS\n",
    "#TERCERO COLOR\n",
    "#CUARTO EL GROSOR\n",
    "#QUINTO EL TIPO DE LINEA\n",
    "rectangulo = cv2.rectangle(img_ajustada,(int(1550*.3),int(1360*.3)),(int(2330*.3),int(1500*.3)),(100,5,70),thickness=2,lineType=cv2.LINE_AA)"
   ]
  },
  {
   "cell_type": "code",
   "execution_count": 29,
   "metadata": {},
   "outputs": [],
   "source": [
    "##AGREGAR TEXTO\n",
    "#PRIMER ARGUMENTO, LA IMAGEN\n",
    "#SEGUNDO LAS COORDENADAS ENTERAS DEL PUNTO DE INICIO DE LAS LETRAS\n",
    "#TERCERO TIPO DE LETRA\n",
    "#CUARTO EL TAMAÑO DE LETRA\n",
    "#QUINTO COLOR\n",
    "#SEXTO GROSOR\n",
    "texto = 'kobayashi san'\n",
    "tipo_letra = cv2.FONT_ITALIC\n",
    "tam_letra = 1\n",
    "color = (0,255,0)\n",
    "grosor = 2\n",
    "texto = cv2.putText(img_ajustada,texto,(int(1545*.3),int(1446*.3)),tipo_letra,tam_letra,color,grosor)"
   ]
  },
  {
   "cell_type": "code",
   "execution_count": 28,
   "metadata": {},
   "outputs": [],
   "source": [
    "cv2.imshow('RGB',img_ajustada)\n",
    "cv2.waitKey(0)\n",
    "cv2.destroyAllWindows()"
   ]
  }
 ],
 "metadata": {
  "kernelspec": {
   "display_name": "Python 3",
   "language": "python",
   "name": "python3"
  },
  "language_info": {
   "codemirror_mode": {
    "name": "ipython",
    "version": 3
   },
   "file_extension": ".py",
   "mimetype": "text/x-python",
   "name": "python",
   "nbconvert_exporter": "python",
   "pygments_lexer": "ipython3",
   "version": "3.12.1"
  }
 },
 "nbformat": 4,
 "nbformat_minor": 2
}
